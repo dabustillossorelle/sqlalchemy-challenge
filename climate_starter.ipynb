{
 "cells": [
  {
   "cell_type": "code",
   "execution_count": 1,
   "metadata": {},
   "outputs": [],
   "source": [
    "%matplotlib inline\n",
    "from matplotlib import style\n",
    "style.use('fivethirtyeight')\n",
    "import matplotlib.pyplot as plt"
   ]
  },
  {
   "cell_type": "code",
   "execution_count": 2,
   "metadata": {},
   "outputs": [],
   "source": [
    "import numpy as np\n",
    "import pandas as pd"
   ]
  },
  {
   "cell_type": "code",
   "execution_count": 3,
   "metadata": {},
   "outputs": [],
   "source": [
    "import datetime as dt"
   ]
  },
  {
   "cell_type": "markdown",
   "metadata": {},
   "source": [
    "# Reflect Tables into SQLAlchemy ORM"
   ]
  },
  {
   "cell_type": "code",
   "execution_count": 4,
   "metadata": {},
   "outputs": [],
   "source": [
    "# Python SQL toolkit and Object Relational Mapper\n",
    "import sqlalchemy\n",
    "from sqlalchemy.ext.automap import automap_base\n",
    "from sqlalchemy.orm import Session\n",
    "from sqlalchemy import create_engine, func\n",
    "from sqlalchemy import desc"
   ]
  },
  {
   "cell_type": "code",
   "execution_count": 5,
   "metadata": {},
   "outputs": [],
   "source": [
    "engine = create_engine(\"sqlite:///Resources/hawaii.sqlite\")"
   ]
  },
  {
   "cell_type": "code",
   "execution_count": 6,
   "metadata": {},
   "outputs": [],
   "source": [
    "# reflect an existing database into a new model\n",
    "Base = automap_base()\n",
    "# reflect the tables\n",
    "Base.prepare(engine, reflect=True)"
   ]
  },
  {
   "cell_type": "code",
   "execution_count": 7,
   "metadata": {},
   "outputs": [
    {
     "data": {
      "text/plain": [
       "['measurement', 'station']"
      ]
     },
     "execution_count": 7,
     "metadata": {},
     "output_type": "execute_result"
    }
   ],
   "source": [
    "# We can view all of the classes that automap found\n",
    "Base.classes.keys()"
   ]
  },
  {
   "cell_type": "code",
   "execution_count": 8,
   "metadata": {},
   "outputs": [],
   "source": [
    "# Save references to each table\n",
    "Measurement = Base.classes.measurement\n",
    "Station = Base.classes.station"
   ]
  },
  {
   "cell_type": "code",
   "execution_count": 9,
   "metadata": {},
   "outputs": [],
   "source": [
    "# Create our session (link) from Python to the DB\n",
    "session = Session(engine)"
   ]
  },
  {
   "cell_type": "markdown",
   "metadata": {},
   "source": [
    "# Exploratory Climate Analysis"
   ]
  },
  {
   "cell_type": "code",
   "execution_count": 10,
   "metadata": {},
   "outputs": [
    {
     "name": "stdout",
     "output_type": "stream",
     "text": [
      "2017-08-23\n"
     ]
    }
   ],
   "source": [
    "# Design a query to retrieve the last 12 months of precipitation data and plot the results\n",
    "\n",
    "#Find the latest date in the database and reformat\n",
    "last_date = session.execute(\"SELECT MAX(date) FROM Measurement\").fetchall()\n",
    "end_date = last_date [0][0]\n",
    "print(end_date)"
   ]
  },
  {
   "cell_type": "code",
   "execution_count": 11,
   "metadata": {},
   "outputs": [
    {
     "name": "stdout",
     "output_type": "stream",
     "text": [
      "2016-08-23\n"
     ]
    }
   ],
   "source": [
    "# Calculate the date 1 year ago from the last data point in the database\n",
    "struct=dt.date.today()\n",
    "end_date_refrmt=struct.replace(year=int(end_date[:4]), month=int(end_date[5:7]), day=int(end_date[8:]))\n",
    "year_bfr=end_date_refrmt - dt.timedelta(days=365)\n",
    "start_date = year_bfr.strftime(\"%Y-%m-%d\")\n",
    "print (start_date)"
   ]
  },
  {
   "cell_type": "code",
   "execution_count": 12,
   "metadata": {},
   "outputs": [],
   "source": [
    "# Perform a query to retrieve the data and precipitation scores\n",
    "percip_data = session.query(Measurement.date, Measurement.prcp)\\\n",
    "    .filter(Measurement.date <= end_date)\\\n",
    "    .filter(Measurement.date >= start_date)\\"
   ]
  },
  {
   "cell_type": "code",
   "execution_count": 13,
   "metadata": {},
   "outputs": [
    {
     "data": {
      "text/html": [
       "<div>\n",
       "<style scoped>\n",
       "    .dataframe tbody tr th:only-of-type {\n",
       "        vertical-align: middle;\n",
       "    }\n",
       "\n",
       "    .dataframe tbody tr th {\n",
       "        vertical-align: top;\n",
       "    }\n",
       "\n",
       "    .dataframe thead th {\n",
       "        text-align: right;\n",
       "    }\n",
       "</style>\n",
       "<table border=\"1\" class=\"dataframe\">\n",
       "  <thead>\n",
       "    <tr style=\"text-align: right;\">\n",
       "      <th></th>\n",
       "      <th>Percipitation Score</th>\n",
       "    </tr>\n",
       "    <tr>\n",
       "      <th>Date</th>\n",
       "      <th></th>\n",
       "    </tr>\n",
       "  </thead>\n",
       "  <tbody>\n",
       "    <tr>\n",
       "      <th>2016-08-23</th>\n",
       "      <td>0.00</td>\n",
       "    </tr>\n",
       "    <tr>\n",
       "      <th>2016-08-24</th>\n",
       "      <td>0.08</td>\n",
       "    </tr>\n",
       "    <tr>\n",
       "      <th>2016-08-25</th>\n",
       "      <td>0.08</td>\n",
       "    </tr>\n",
       "    <tr>\n",
       "      <th>2016-08-26</th>\n",
       "      <td>0.00</td>\n",
       "    </tr>\n",
       "    <tr>\n",
       "      <th>2016-08-27</th>\n",
       "      <td>0.00</td>\n",
       "    </tr>\n",
       "  </tbody>\n",
       "</table>\n",
       "</div>"
      ],
      "text/plain": [
       "            Percipitation Score\n",
       "Date                           \n",
       "2016-08-23                 0.00\n",
       "2016-08-24                 0.08\n",
       "2016-08-25                 0.08\n",
       "2016-08-26                 0.00\n",
       "2016-08-27                 0.00"
      ]
     },
     "execution_count": 13,
     "metadata": {},
     "output_type": "execute_result"
    }
   ],
   "source": [
    "# Save the query results as a Pandas DataFrame and set the index to the date column\n",
    "percip_df =pd.DataFrame(percip_data).rename(columns={\"date\": \"Date\", \"prcp\":\"Percipitation Score\"})\n",
    "percip_df.set_index(\"Date\", inplace=True)\n",
    "percip_df.head()"
   ]
  },
  {
   "cell_type": "code",
   "execution_count": 14,
   "metadata": {},
   "outputs": [
    {
     "data": {
      "text/html": [
       "<div>\n",
       "<style scoped>\n",
       "    .dataframe tbody tr th:only-of-type {\n",
       "        vertical-align: middle;\n",
       "    }\n",
       "\n",
       "    .dataframe tbody tr th {\n",
       "        vertical-align: top;\n",
       "    }\n",
       "\n",
       "    .dataframe thead th {\n",
       "        text-align: right;\n",
       "    }\n",
       "</style>\n",
       "<table border=\"1\" class=\"dataframe\">\n",
       "  <thead>\n",
       "    <tr style=\"text-align: right;\">\n",
       "      <th></th>\n",
       "      <th>Percipitation Score</th>\n",
       "    </tr>\n",
       "    <tr>\n",
       "      <th>Date</th>\n",
       "      <th></th>\n",
       "    </tr>\n",
       "  </thead>\n",
       "  <tbody>\n",
       "    <tr>\n",
       "      <th>2016-08-23</th>\n",
       "      <td>0.00</td>\n",
       "    </tr>\n",
       "    <tr>\n",
       "      <th>2016-08-23</th>\n",
       "      <td>NaN</td>\n",
       "    </tr>\n",
       "    <tr>\n",
       "      <th>2016-08-23</th>\n",
       "      <td>1.79</td>\n",
       "    </tr>\n",
       "    <tr>\n",
       "      <th>2016-08-23</th>\n",
       "      <td>0.05</td>\n",
       "    </tr>\n",
       "    <tr>\n",
       "      <th>2016-08-23</th>\n",
       "      <td>0.15</td>\n",
       "    </tr>\n",
       "  </tbody>\n",
       "</table>\n",
       "</div>"
      ],
      "text/plain": [
       "            Percipitation Score\n",
       "Date                           \n",
       "2016-08-23                 0.00\n",
       "2016-08-23                  NaN\n",
       "2016-08-23                 1.79\n",
       "2016-08-23                 0.05\n",
       "2016-08-23                 0.15"
      ]
     },
     "execution_count": 14,
     "metadata": {},
     "output_type": "execute_result"
    }
   ],
   "source": [
    "# Sort the dataframe by date\n",
    "percip_df= percip_df.sort_values(by='Date')\n",
    "percip_df.head()"
   ]
  },
  {
   "cell_type": "code",
   "execution_count": 15,
   "metadata": {},
   "outputs": [
    {
     "data": {
      "image/png": "[encoded data removed]",
      "text/plain": [
       "<Figure size 720x360 with 1 Axes>"
      ]
     },
     "metadata": {
      "needs_background": "light"
     },
     "output_type": "display_data"
    }
   ],
   "source": [
    "# Use Pandas Plotting with Matplotlib to plot the data\n",
    "percip_df.plot(figsize=(10,5),ylim=(0,8),title=f'Percipitation Data from {start_date} through {end_date}',rot=45)\n",
    "plt.legend(loc=\"upper left\")\n",
    "plt.show()"
   ]
  },
  {
   "cell_type": "code",
   "execution_count": 16,
   "metadata": {},
   "outputs": [
    {
     "data": {
      "text/plain": [
       "<Figure size 432x288 with 0 Axes>"
      ]
     },
     "metadata": {},
     "output_type": "display_data"
    }
   ],
   "source": [
    "plt.savefig(\"1_Percipitation_Data.png\")"
   ]
  },
  {
   "cell_type": "code",
   "execution_count": 17,
   "metadata": {},
   "outputs": [
    {
     "data": {
      "text/html": [
       "<div>\n",
       "<style scoped>\n",
       "    .dataframe tbody tr th:only-of-type {\n",
       "        vertical-align: middle;\n",
       "    }\n",
       "\n",
       "    .dataframe tbody tr th {\n",
       "        vertical-align: top;\n",
       "    }\n",
       "\n",
       "    .dataframe thead th {\n",
       "        text-align: right;\n",
       "    }\n",
       "</style>\n",
       "<table border=\"1\" class=\"dataframe\">\n",
       "  <thead>\n",
       "    <tr style=\"text-align: right;\">\n",
       "      <th></th>\n",
       "      <th>Percipitation Score</th>\n",
       "    </tr>\n",
       "  </thead>\n",
       "  <tbody>\n",
       "    <tr>\n",
       "      <th>count</th>\n",
       "      <td>2021.000000</td>\n",
       "    </tr>\n",
       "    <tr>\n",
       "      <th>mean</th>\n",
       "      <td>0.177279</td>\n",
       "    </tr>\n",
       "    <tr>\n",
       "      <th>std</th>\n",
       "      <td>0.461190</td>\n",
       "    </tr>\n",
       "    <tr>\n",
       "      <th>min</th>\n",
       "      <td>0.000000</td>\n",
       "    </tr>\n",
       "    <tr>\n",
       "      <th>25%</th>\n",
       "      <td>0.000000</td>\n",
       "    </tr>\n",
       "    <tr>\n",
       "      <th>50%</th>\n",
       "      <td>0.020000</td>\n",
       "    </tr>\n",
       "    <tr>\n",
       "      <th>75%</th>\n",
       "      <td>0.130000</td>\n",
       "    </tr>\n",
       "    <tr>\n",
       "      <th>max</th>\n",
       "      <td>6.700000</td>\n",
       "    </tr>\n",
       "  </tbody>\n",
       "</table>\n",
       "</div>"
      ],
      "text/plain": [
       "       Percipitation Score\n",
       "count          2021.000000\n",
       "mean              0.177279\n",
       "std               0.461190\n",
       "min               0.000000\n",
       "25%               0.000000\n",
       "50%               0.020000\n",
       "75%               0.130000\n",
       "max               6.700000"
      ]
     },
     "execution_count": 17,
     "metadata": {},
     "output_type": "execute_result"
    }
   ],
   "source": [
    "# Use Pandas to calcualte the summary statistics for the precipitation data\n",
    "percip_df.describe()"
   ]
  },
  {
   "cell_type": "code",
   "execution_count": 18,
   "metadata": {},
   "outputs": [
    {
     "name": "stdout",
     "output_type": "stream",
     "text": [
      "The total number of weather stations is: 9\n"
     ]
    }
   ],
   "source": [
    "# Design a query to show how many stations are available in this dataset?\n",
    "tot_stations = session.query(Station).count()\n",
    "print('The total number of weather stations is: {}'.format(tot_stations))"
   ]
  },
  {
   "cell_type": "code",
   "execution_count": 19,
   "metadata": {},
   "outputs": [
    {
     "name": "stdout",
     "output_type": "stream",
     "text": [
      "[('USC00518838', 511), ('USC00517948', 1372), ('USC00511918', 1979), ('USC00514830', 2202), ('USC00516128', 2612), ('USC00519523', 2669), ('USC00513117', 2709), ('USC00519397', 2724), ('USC00519281', 2772)]\n"
     ]
    }
   ],
   "source": [
    "# What are the most active stations? (i.e. what stations have the most rows)?\n",
    "mostact_stat=session.query(Measurement.station, func.count(Measurement.station))\\\n",
    "    .group_by(Measurement.station)\\\n",
    "    .order_by((func.count(Measurement.station))).all()\n",
    "print(mostact_stat)"
   ]
  },
  {
   "cell_type": "code",
   "execution_count": null,
   "metadata": {},
   "outputs": [],
   "source": [
    "# List the stations and the counts in descending order.\n",
    "print(\"Rank\\tStation ID\\tObservations\")\n",
    "i = 1\n",
    "for act_stats in mostact_stat:\n",
    "    print(\"%d\\t%s\\t%d\" %(i,act_stats[0],act_stats[1]))\n",
    "    i+=1"
   ]
  },
  {
   "cell_type": "code",
   "execution_count": 20,
   "metadata": {},
   "outputs": [
    {
     "name": "stdout",
     "output_type": "stream",
     "text": [
      "('USC00519281', 2772)\n"
     ]
    }
   ],
   "source": [
    "# Find the the station with the highest observations\n",
    "highobs_stat=session.query(Measurement.station, func.count(Measurement.station))\\\n",
    "    .group_by(Measurement.station)\\\n",
    "    .order_by(desc(func.count(Measurement.station))).first()\n",
    "print(highobs_stat)"
   ]
  },
  {
   "cell_type": "code",
   "execution_count": 21,
   "metadata": {},
   "outputs": [
    {
     "data": {
      "text/plain": [
       "[(54.0, 85.0, 71.66378066378067)]"
      ]
     },
     "execution_count": 21,
     "metadata": {},
     "output_type": "execute_result"
    }
   ],
   "source": [
    "# Using the station id from the previous query, calculate the lowest temperature recorded, \n",
    "# highest temperature recorded, and average temperature most active station?\n",
    "session.query(func.min(Measurement.tobs),func.max(Measurement.tobs),func.avg(Measurement.tobs))\\\n",
    "    .filter(Measurement.station == highobs_stat[0]).all()"
   ]
  },
  {
   "cell_type": "code",
   "execution_count": 22,
   "metadata": {},
   "outputs": [],
   "source": [
    "# Choose the station with the highest number of temperature observations.\n",
    "# Query the last 12 months of temperature observation data for this station\n",
    "hightemp_obs = session.query(Measurement.date,Measurement.station,Measurement.tobs)\\\n",
    "             .filter(Measurement.date >= start_date).filter(Measurement.date<=end_date)\\\n",
    "             .filter(Measurement.station == highobs_stat[0]).order_by(desc(Measurement.date)).all()"
   ]
  },
  {
   "cell_type": "code",
   "execution_count": 23,
   "metadata": {},
   "outputs": [
    {
     "data": {
      "text/html": [
       "<div>\n",
       "<style scoped>\n",
       "    .dataframe tbody tr th:only-of-type {\n",
       "        vertical-align: middle;\n",
       "    }\n",
       "\n",
       "    .dataframe tbody tr th {\n",
       "        vertical-align: top;\n",
       "    }\n",
       "\n",
       "    .dataframe thead th {\n",
       "        text-align: right;\n",
       "    }\n",
       "</style>\n",
       "<table border=\"1\" class=\"dataframe\">\n",
       "  <thead>\n",
       "    <tr style=\"text-align: right;\">\n",
       "      <th></th>\n",
       "      <th>Date</th>\n",
       "      <th>Station ID</th>\n",
       "      <th>Temperature Recorded</th>\n",
       "    </tr>\n",
       "  </thead>\n",
       "  <tbody>\n",
       "    <tr>\n",
       "      <th>0</th>\n",
       "      <td>2017-08-18</td>\n",
       "      <td>USC00519281</td>\n",
       "      <td>79.0</td>\n",
       "    </tr>\n",
       "    <tr>\n",
       "      <th>1</th>\n",
       "      <td>2017-08-17</td>\n",
       "      <td>USC00519281</td>\n",
       "      <td>76.0</td>\n",
       "    </tr>\n",
       "    <tr>\n",
       "      <th>2</th>\n",
       "      <td>2017-08-16</td>\n",
       "      <td>USC00519281</td>\n",
       "      <td>76.0</td>\n",
       "    </tr>\n",
       "    <tr>\n",
       "      <th>3</th>\n",
       "      <td>2017-08-15</td>\n",
       "      <td>USC00519281</td>\n",
       "      <td>77.0</td>\n",
       "    </tr>\n",
       "    <tr>\n",
       "      <th>4</th>\n",
       "      <td>2017-08-14</td>\n",
       "      <td>USC00519281</td>\n",
       "      <td>77.0</td>\n",
       "    </tr>\n",
       "  </tbody>\n",
       "</table>\n",
       "</div>"
      ],
      "text/plain": [
       "         Date   Station ID  Temperature Recorded\n",
       "0  2017-08-18  USC00519281                  79.0\n",
       "1  2017-08-17  USC00519281                  76.0\n",
       "2  2017-08-16  USC00519281                  76.0\n",
       "3  2017-08-15  USC00519281                  77.0\n",
       "4  2017-08-14  USC00519281                  77.0"
      ]
     },
     "execution_count": 23,
     "metadata": {},
     "output_type": "execute_result"
    }
   ],
   "source": [
    "#Create a data frame from the query\n",
    "hightemp_obs_df = pd.DataFrame(hightemp_obs, columns=[\"Date\",\"Station ID\",\"Temperature Recorded\"])\n",
    "hightemp_obs_df.head()"
   ]
  },
  {
   "cell_type": "code",
   "execution_count": 24,
   "metadata": {},
   "outputs": [
    {
     "data": {
      "image/png": "[encoded data removed]",
      "text/plain": [
       "<Figure size 432x288 with 1 Axes>"
      ]
     },
     "metadata": {
      "needs_background": "light"
     },
     "output_type": "display_data"
    }
   ],
   "source": [
    "#Plot the results as a histogram\n",
    "hightemp_obs_df.plot.hist(by=\"Temperature Recorded\",bins=12,label=\"tobs\",title=f'Frequency of Recorded Temperatures for {highobs_stat} from {start_date} through {end_date}')\n",
    "plt.ylim=(0,80)\n",
    "plt.ylabel(\"Frequency of Recorded Temperature\")\n",
    "plt.xlabel(\"Temperature (F)\")\n",
    "plt.legend=()\n",
    "plt.show()"
   ]
  },
  {
   "cell_type": "code",
   "execution_count": 25,
   "metadata": {},
   "outputs": [
    {
     "data": {
      "text/plain": [
       "<Figure size 432x288 with 0 Axes>"
      ]
     },
     "metadata": {},
     "output_type": "display_data"
    }
   ],
   "source": [
    "plt.savefig(\"2_Frequency_Temperature.png\")"
   ]
  },
  {
   "cell_type": "code",
   "execution_count": 26,
   "metadata": {},
   "outputs": [
    {
     "name": "stdout",
     "output_type": "stream",
     "text": [
      "[(62.0, 69.57142857142857, 74.0)]\n"
     ]
    }
   ],
   "source": [
    "# This function called `calc_temps` will accept start date and end date in the format '%Y-%m-%d' \n",
    "# and return the minimum, average, and maximum temperatures for that range of dates\n",
    "def calc_temps(start_date, end_date):\n",
    "    \"\"\"TMIN, TAVG, and TMAX for a list of dates.\n",
    "    \n",
    "    Args:\n",
    "        start_date (string): A date string in the format %Y-%m-%d\n",
    "        end_date (string): A date string in the format %Y-%m-%d\n",
    "        \n",
    "    Returns:\n",
    "        TMIN, TAVE, and TMAX\n",
    "    \"\"\"\n",
    "    \n",
    "    return session.query(func.min(Measurement.tobs), func.avg(Measurement.tobs), func.max(Measurement.tobs)).\\\n",
    "        filter(Measurement.date >= start_date).filter(Measurement.date <= end_date).all()\n",
    "\n",
    "# function usage example\n",
    "print(calc_temps('2012-02-28', '2012-03-05'))"
   ]
  },
  {
   "cell_type": "code",
   "execution_count": 27,
   "metadata": {},
   "outputs": [
    {
     "name": "stdout",
     "output_type": "stream",
     "text": [
      "Enter the first date of your trip:2018-03-16\n",
      "Enter the last date of your trip:2018-03-26\n"
     ]
    }
   ],
   "source": [
    "# Use your previous function `calc_temps` to calculate the tmin, tavg, and tmax \n",
    "# for your trip using the previous year's data for those same dates.\n",
    "trp_strt_dt= input(\"Enter the first date of your trip:\")\n",
    "trp_end_dt= input(\"Enter the last date of your trip:\")"
   ]
  },
  {
   "cell_type": "code",
   "execution_count": 28,
   "metadata": {},
   "outputs": [
    {
     "data": {
      "text/plain": [
       "'2017-03-16'"
      ]
     },
     "execution_count": 28,
     "metadata": {},
     "output_type": "execute_result"
    }
   ],
   "source": [
    "struct = dt.date.today()\n",
    "trp_strt_refrmt = struct.replace(year=int(trp_strt_dt[:4]), month=int(trp_strt_dt[5:7]), day=int(trp_strt_dt[8:]))\n",
    "prevtrp_strt = trp_strt_refrmt - dt.timedelta(days=365)\n",
    "prevtrp_strt = prevtrp_strt.strftime(\"%Y-%m-%d\")\n",
    "prevtrp_strt"
   ]
  },
  {
   "cell_type": "code",
   "execution_count": 29,
   "metadata": {},
   "outputs": [
    {
     "data": {
      "text/plain": [
       "'2017-03-26'"
      ]
     },
     "execution_count": 29,
     "metadata": {},
     "output_type": "execute_result"
    }
   ],
   "source": [
    "trp_end_refrmt = struct.replace(year=int(trp_end_dt[:4]),month=int(trp_end_dt[5:7]),day=int(trp_end_dt[8:]))\n",
    "prevtrp_end = trp_end_refrmt - dt.timedelta(days=365)\n",
    "prevtrp_end = prevtrp_end.strftime(\"%Y-%m-%d\")\n",
    "prevtrp_end"
   ]
  },
  {
   "cell_type": "code",
   "execution_count": 30,
   "metadata": {},
   "outputs": [
    {
     "name": "stdout",
     "output_type": "stream",
     "text": [
      "[(65.0, 72.90625, 80.0)]\n"
     ]
    }
   ],
   "source": [
    "gen_temps=calc_temps(prevtrp_strt, prevtrp_end)\n",
    "print(gen_temps)"
   ]
  },
  {
   "cell_type": "code",
   "execution_count": 31,
   "metadata": {},
   "outputs": [
    {
     "data": {
      "image/png": "[encoded data removed]",
      "text/plain": [
       "<Figure size 144x720 with 1 Axes>"
      ]
     },
     "metadata": {
      "needs_background": "light"
     },
     "output_type": "display_data"
    }
   ],
   "source": [
    "# Plot the results from your previous query as a bar chart. \n",
    "# Use \"Trip Avg Temp\" as your Title\n",
    "# Use the average temperature for the y value\n",
    "# Use the peak-to-peak (tmax-tmin) value as the y error bar (yerr)\n",
    "tmin = gen_temps[0][0]\n",
    "tavg = gen_temps[0][1]\n",
    "tmax = gen_temps[0][2]\n",
    "y_err = tmax-tmin\n",
    "\n",
    "plt.figure(figsize=(2,10))\n",
    "plt.bar(0,tavg,yerr=y_err,align=\"center\",width=1,color=\"orange\",alpha=0.5)\n",
    "plt.ylim=(0,120)\n",
    "plt.ylabel(\"Temperature(F)\")\n",
    "plt.title(\"Avg Temperature During Trip (2017)\")\n",
    "plt.show()"
   ]
  },
  {
   "cell_type": "code",
   "execution_count": 32,
   "metadata": {},
   "outputs": [
    {
     "data": {
      "text/plain": [
       "<Figure size 432x288 with 0 Axes>"
      ]
     },
     "metadata": {},
     "output_type": "display_data"
    }
   ],
   "source": [
    "plt.savefig(\"3_Avg_Temps.png\")"
   ]
  },
  {
   "cell_type": "code",
   "execution_count": 33,
   "metadata": {},
   "outputs": [
    {
     "name": "stdout",
     "output_type": "stream",
     "text": [
      "Station ID\tTotal Rainfall\n",
      "USC00519281 \t 1.28\n",
      "USC00513117 \t 0.92\n",
      "USC00519523 \t 0.87\n",
      "USC00516128 \t 0.6799999999999999\n",
      "USC00514830 \t 0.21\n",
      "USC00519397 \t 0.02\n",
      "USC00517948 \t None\n"
     ]
    }
   ],
   "source": [
    "# Calculate the total amount of rainfall per weather station for your trip dates using the previous year's matching dates.\n",
    "# Sort this in descending order by precipitation amount and list the station, name, latitude, longitude, and elevation\n",
    "\n",
    "gen_rainfall = session.query(Measurement.station, func.sum(Measurement.prcp))\\\n",
    "        .filter(Measurement.date>=prevtrp_strt).filter(Measurement.date<=prevtrp_end)\\\n",
    "        .group_by(Measurement.station).order_by(func.sum(Measurement.prcp).desc()).all()\n",
    "print(\"Station ID\\tTotal Rainfall\")\n",
    "for each in gen_rainfall: print(each[0], \"\\t\", each[1])"
   ]
  },
  {
   "cell_type": "code",
   "execution_count": 34,
   "metadata": {},
   "outputs": [
    {
     "name": "stdout",
     "output_type": "stream",
     "text": [
      "('USC00519281', 'WAIHEE 837.5, HI US', 1.28, 21.45167, -157.84888999999998, 32.9)\n",
      "('USC00513117', 'KANEOHE 838.1, HI US', 0.92, 21.4234, -157.8015, 14.6)\n",
      "('USC00519523', 'WAIMANALO EXPERIMENTAL FARM, HI US', 0.87, 21.33556, -157.71139, 19.5)\n",
      "('USC00516128', 'MANOA LYON ARBO 785.2, HI US', 0.6799999999999999, 21.3331, -157.8025, 152.4)\n",
      "('USC00514830', 'KUALOA RANCH HEADQUARTERS 886.9, HI US', 0.21, 21.5213, -157.8374, 7.0)\n",
      "('USC00519397', 'WAIKIKI 717.2, HI US', 0.02, 21.2716, -157.8168, 3.0)\n",
      "('USC00517948', 'PEARL CITY, HI US', None, 21.3934, -157.9751, 11.9)\n"
     ]
    }
   ],
   "source": [
    "variables = [Measurement.station,Station.name,func.sum(Measurement.prcp),Station.latitude,Station.longitude,Station.elevation]\n",
    "stat_tot_rainfall = session.query(*variables).filter(Measurement.station==Station.station)\\\n",
    "                       .filter(Measurement.date>=prevtrp_strt).filter(Measurement.date<=prevtrp_end)\\\n",
    "                       .group_by(Measurement.station).order_by(func.sum(Measurement.prcp).desc()).all()\n",
    "for tot_rainfall in stat_tot_rainfall:print(tot_rainfall)"
   ]
  },
  {
   "cell_type": "markdown",
   "metadata": {},
   "source": [
    "## Optional Challenge Assignment"
   ]
  },
  {
   "cell_type": "code",
   "execution_count": 35,
   "metadata": {},
   "outputs": [
    {
     "data": {
      "text/plain": [
       "[(62.0, 69.15384615384616, 77.0)]"
      ]
     },
     "execution_count": 35,
     "metadata": {},
     "output_type": "execute_result"
    }
   ],
   "source": [
    "# Create a query that will calculate the daily normals \n",
    "# (i.e. the averages for tmin, tmax, and tavg for all historic data matching a specific month and day)\n",
    "\n",
    "def daily_normals(date):\n",
    "    \"\"\"Daily Normals.\n",
    "    \n",
    "    Args:\n",
    "        date (str): A date string in the format '%m-%d'\n",
    "        \n",
    "    Returns:\n",
    "        A list of tuples containing the daily normals, tmin, tavg, and tmax\n",
    "    \n",
    "    \"\"\"\n",
    "    \n",
    "    sel = [func.min(Measurement.tobs), func.avg(Measurement.tobs), func.max(Measurement.tobs)]\n",
    "    return session.query(*sel).filter(func.strftime(\"%m-%d\", Measurement.date) == date).all()\n",
    "    \n",
    "daily_normals(\"01-01\")"
   ]
  },
  {
   "cell_type": "code",
   "execution_count": 36,
   "metadata": {},
   "outputs": [
    {
     "name": "stdout",
     "output_type": "stream",
     "text": [
      "Daily Normals for 03-16 to 03-26\n"
     ]
    },
    {
     "data": {
      "text/plain": [
       "[(60.0, 69.70370370370371, 78.0),\n",
       " (57.0, 68.54, 75.0),\n",
       " (57.0, 67.7843137254902, 76.0),\n",
       " (60.0, 69.1, 75.0),\n",
       " (62.0, 70.11764705882354, 80.0),\n",
       " (60.0, 71.07692307692308, 77.0),\n",
       " (65.0, 71.75471698113208, 77.0),\n",
       " (63.0, 70.79629629629629, 78.0),\n",
       " (62.0, 71.5, 77.0),\n",
       " (63.0, 71.5, 78.0),\n",
       " (64.0, 71.38, 80.0)]"
      ]
     },
     "execution_count": 36,
     "metadata": {},
     "output_type": "execute_result"
    }
   ],
   "source": [
    "# calculate the daily normals for your trip\n",
    "# push each tuple of calculations into a list called `normals`\n",
    "\n",
    "# Set the start and end date of the trip\n",
    "\n",
    "# Use the start and end date to create a range of dates\n",
    "\n",
    "# Stip off the year and save a list of %m-%d strings\n",
    "\n",
    "prevtrp_strt='2017-03-16'\n",
    "prevtrp_end='2017-03-26'\n",
    "\n",
    "date_rng = session.query(Measurement.date).filter(Measurement.date >= prevtrp_strt).filter(Measurement.date <= prevtrp_end).group_by(Measurement.date).all()\n",
    "trip_rng = [x[0] for x in date_rng]\n",
    "trip_rng_ny=[x[5:] for x in trip_rng]\n",
    "strt_mndy= trip_rng_ny[0]\n",
    "end_mndy= trip_rng_ny[-1]\n",
    "\n",
    "# Loop through the list of %m-%d strings and calculate the normals for each date\n",
    "daily_normals = [session.query(func.min(Measurement.tobs),\n",
    "                              func.avg(Measurement.tobs),\n",
    "                              func.max(Measurement.tobs)).filter(func.strftime(\"%m-%d\", Measurement.date)>=strt_mndy)\n",
    "                 .filter(func.strftime(\"%m-%d\", Measurement.date)<=end_mndy).group_by(func.strftime(\"%m-%d\", Measurement.date)).all()]\n",
    "daily_normals = daily_normals[0]\n",
    "print(\"Daily Normals for 03-16 to 03-26\")\n",
    "daily_normals"
   ]
  },
  {
   "cell_type": "code",
   "execution_count": 37,
   "metadata": {},
   "outputs": [
    {
     "data": {
      "text/html": [
       "<div>\n",
       "<style scoped>\n",
       "    .dataframe tbody tr th:only-of-type {\n",
       "        vertical-align: middle;\n",
       "    }\n",
       "\n",
       "    .dataframe tbody tr th {\n",
       "        vertical-align: top;\n",
       "    }\n",
       "\n",
       "    .dataframe thead th {\n",
       "        text-align: right;\n",
       "    }\n",
       "</style>\n",
       "<table border=\"1\" class=\"dataframe\">\n",
       "  <thead>\n",
       "    <tr style=\"text-align: right;\">\n",
       "      <th></th>\n",
       "      <th>temp_min</th>\n",
       "      <th>temp_avg</th>\n",
       "      <th>temp_max</th>\n",
       "    </tr>\n",
       "    <tr>\n",
       "      <th>date</th>\n",
       "      <th></th>\n",
       "      <th></th>\n",
       "      <th></th>\n",
       "    </tr>\n",
       "  </thead>\n",
       "  <tbody>\n",
       "    <tr>\n",
       "      <th>2017-03-16</th>\n",
       "      <td>60.0</td>\n",
       "      <td>69.703704</td>\n",
       "      <td>78.0</td>\n",
       "    </tr>\n",
       "    <tr>\n",
       "      <th>2017-03-17</th>\n",
       "      <td>57.0</td>\n",
       "      <td>68.540000</td>\n",
       "      <td>75.0</td>\n",
       "    </tr>\n",
       "    <tr>\n",
       "      <th>2017-03-18</th>\n",
       "      <td>57.0</td>\n",
       "      <td>67.784314</td>\n",
       "      <td>76.0</td>\n",
       "    </tr>\n",
       "    <tr>\n",
       "      <th>2017-03-19</th>\n",
       "      <td>60.0</td>\n",
       "      <td>69.100000</td>\n",
       "      <td>75.0</td>\n",
       "    </tr>\n",
       "    <tr>\n",
       "      <th>2017-03-20</th>\n",
       "      <td>62.0</td>\n",
       "      <td>70.117647</td>\n",
       "      <td>80.0</td>\n",
       "    </tr>\n",
       "    <tr>\n",
       "      <th>2017-03-21</th>\n",
       "      <td>60.0</td>\n",
       "      <td>71.076923</td>\n",
       "      <td>77.0</td>\n",
       "    </tr>\n",
       "    <tr>\n",
       "      <th>2017-03-22</th>\n",
       "      <td>65.0</td>\n",
       "      <td>71.754717</td>\n",
       "      <td>77.0</td>\n",
       "    </tr>\n",
       "    <tr>\n",
       "      <th>2017-03-23</th>\n",
       "      <td>63.0</td>\n",
       "      <td>70.796296</td>\n",
       "      <td>78.0</td>\n",
       "    </tr>\n",
       "    <tr>\n",
       "      <th>2017-03-24</th>\n",
       "      <td>62.0</td>\n",
       "      <td>71.500000</td>\n",
       "      <td>77.0</td>\n",
       "    </tr>\n",
       "    <tr>\n",
       "      <th>2017-03-25</th>\n",
       "      <td>63.0</td>\n",
       "      <td>71.500000</td>\n",
       "      <td>78.0</td>\n",
       "    </tr>\n",
       "    <tr>\n",
       "      <th>2017-03-26</th>\n",
       "      <td>64.0</td>\n",
       "      <td>71.380000</td>\n",
       "      <td>80.0</td>\n",
       "    </tr>\n",
       "  </tbody>\n",
       "</table>\n",
       "</div>"
      ],
      "text/plain": [
       "            temp_min   temp_avg  temp_max\n",
       "date                                     \n",
       "2017-03-16      60.0  69.703704      78.0\n",
       "2017-03-17      57.0  68.540000      75.0\n",
       "2017-03-18      57.0  67.784314      76.0\n",
       "2017-03-19      60.0  69.100000      75.0\n",
       "2017-03-20      62.0  70.117647      80.0\n",
       "2017-03-21      60.0  71.076923      77.0\n",
       "2017-03-22      65.0  71.754717      77.0\n",
       "2017-03-23      63.0  70.796296      78.0\n",
       "2017-03-24      62.0  71.500000      77.0\n",
       "2017-03-25      63.0  71.500000      78.0\n",
       "2017-03-26      64.0  71.380000      80.0"
      ]
     },
     "execution_count": 37,
     "metadata": {},
     "output_type": "execute_result"
    }
   ],
   "source": [
    "# Load the previous query results into a Pandas DataFrame and add the `trip_dates` range as the `date` index\n",
    "daily_norms_df=pd.DataFrame(daily_normals, columns=['temp_min', 'temp_avg', 'temp_max'])\n",
    "daily_norms_df['date']=trip_rng\n",
    "daily_norms_df['date']=pd.to_datetime(daily_norms_df['date'], format='%Y-%m-%d')\n",
    "daily_norms_df.set_index('date', inplace=True)\n",
    "daily_norms_df"
   ]
  },
  {
   "cell_type": "code",
   "execution_count": 38,
   "metadata": {},
   "outputs": [
    {
     "data": {
      "image/png": "[encoded data removed]",
      "text/plain": [
       "<Figure size 432x288 with 1 Axes>"
      ]
     },
     "metadata": {
      "needs_background": "light"
     },
     "output_type": "display_data"
    }
   ],
   "source": [
    "# Plot the daily normals as an area plot with `stacked=False`\n",
    "daily_norms_df.plot(kind='area', alpha=.2, stacked=False, x_compat=True, title=\"Daily Normals for Trip Dates\")\n",
    "plt.tight_layout()\n",
    "plt.show()"
   ]
  },
  {
   "cell_type": "code",
   "execution_count": 39,
   "metadata": {},
   "outputs": [
    {
     "data": {
      "text/plain": [
       "<Figure size 432x288 with 0 Axes>"
      ]
     },
     "metadata": {},
     "output_type": "display_data"
    }
   ],
   "source": [
    "plt.savefig(\"4_Daily_Norms.png\")"
   ]
  },
  {
   "cell_type": "code",
   "execution_count": null,
   "metadata": {},
   "outputs": [],
   "source": []
  }
 ],
 "metadata": {
  "kernel_info": {
   "name": "python3"
  },
  "kernelspec": {
   "display_name": "Python 3",
   "language": "python",
   "name": "python3"
  },
  "language_info": {
   "codemirror_mode": {
    "name": "ipython",
    "version": 3
   },
   "file_extension": ".py",
   "mimetype": "text/x-python",
   "name": "python",
   "nbconvert_exporter": "python",
   "pygments_lexer": "ipython3",
   "version": "3.7.3"
  },
  "nteract": {
   "version": "0.12.3"
  },
  "varInspector": {
   "cols": {
    "lenName": 16,
    "lenType": 16,
    "lenVar": 40
   },
   "kernels_config": {
    "python": {
     "delete_cmd_postfix": "",
     "delete_cmd_prefix": "del ",
     "library": "var_list.py",
     "varRefreshCmd": "print(var_dic_list())"
    },
    "r": {
     "delete_cmd_postfix": ") ",
     "delete_cmd_prefix": "rm(",
     "library": "var_list.r",
     "varRefreshCmd": "cat(var_dic_list()) "
    }
   },
   "types_to_exclude": [
    "module",
    "function",
    "builtin_function_or_method",
    "instance",
    "_Feature"
   ],
   "window_display": false
  }
 },
 "nbformat": 4,
 "nbformat_minor": 2
}
